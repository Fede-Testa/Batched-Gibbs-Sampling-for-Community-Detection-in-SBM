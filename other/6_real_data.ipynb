{
 "cells": [
  {
   "cell_type": "code",
   "execution_count": 28,
   "metadata": {},
   "outputs": [],
   "source": [
    "import networkx as nx \n",
    "import matplotlib.pyplot as plt\n",
    "import numpy as np\n",
    "import random\n",
    "from neal_batched import Neal_batched_Gibbs_sampler\n",
    "from neal_sequential import Neal_sequential_Gibbs_sampler\n",
    "# spectral clustering\n",
    "from sklearn.cluster import SpectralClustering\n",
    "# import loss\n",
    "from metrics import loss, greedy_loss\n",
    "from utils import warm_initializer"
   ]
  },
  {
   "cell_type": "code",
   "execution_count": 3,
   "metadata": {},
   "outputs": [],
   "source": [
    "seed = 1\n",
    "random.seed(seed)"
   ]
  },
  {
   "cell_type": "code",
   "execution_count": 4,
   "metadata": {},
   "outputs": [],
   "source": [
    "# import the data from the ./data folder, .txt files\n",
    "data = np.loadtxt('./data/email-Eu-core.txt', dtype=int)\n",
    "assignments = np.loadtxt('./data/email-Eu-core-department-labels.txt', dtype=int)\n",
    "\n",
    "# turn data into an adjacency matrix\n",
    "G = nx.Graph()\n",
    "G.add_edges_from(data)\n",
    "A = nx.adjacency_matrix(G).toarray()\n"
   ]
  },
  {
   "cell_type": "code",
   "execution_count": 1,
   "metadata": {},
   "outputs": [
    {
     "ename": "NameError",
     "evalue": "name 'assignments' is not defined",
     "output_type": "error",
     "traceback": [
      "\u001b[1;31m---------------------------------------------------------------------------\u001b[0m",
      "\u001b[1;31mNameError\u001b[0m                                 Traceback (most recent call last)",
      "Cell \u001b[1;32mIn[1], line 1\u001b[0m\n\u001b[1;32m----> 1\u001b[0m z_true \u001b[38;5;241m=\u001b[39m \u001b[43massignments\u001b[49m[:,\u001b[38;5;241m1\u001b[39m]\n",
      "\u001b[1;31mNameError\u001b[0m: name 'assignments' is not defined"
     ]
    }
   ],
   "source": [
    "z_true = assignments[:,1]"
   ]
  },
  {
   "cell_type": "code",
   "execution_count": 6,
   "metadata": {},
   "outputs": [],
   "source": [
    "n = A.shape[0]\n",
    "k = len(np.unique(z_true))"
   ]
  },
  {
   "cell_type": "code",
   "execution_count": 7,
   "metadata": {},
   "outputs": [
    {
     "name": "stdout",
     "output_type": "stream",
     "text": [
      "Number of nodes: 1005\n",
      "Number of communities: 42\n"
     ]
    }
   ],
   "source": [
    "print('Number of nodes:', n)\n",
    "print('Number of communities:', k)"
   ]
  },
  {
   "cell_type": "code",
   "execution_count": 8,
   "metadata": {},
   "outputs": [
    {
     "data": {
      "text/plain": [
       "42"
      ]
     },
     "execution_count": 8,
     "metadata": {},
     "output_type": "execute_result"
    }
   ],
   "source": [
    "# count unique values in z_true\n",
    "np.unique(z_true).shape[0]"
   ]
  },
  {
   "cell_type": "code",
   "execution_count": 118,
   "metadata": {},
   "outputs": [],
   "source": [
    "# erase communities smaller than 16 nodes\n",
    "min_size = 30\n",
    "unique, counts = np.unique(z_true, return_counts=True)\n",
    "communities = dict(zip(unique, counts))\n",
    "for key in list(communities.keys()):\n",
    "    if communities[key] < min_size:\n",
    "        A = np.delete(A, np.where(z_true == key), axis=0)\n",
    "        A = np.delete(A, np.where(z_true == key), axis=1)\n",
    "        z_true = np.delete(z_true, np.where(z_true == key))\n",
    "\n",
    "n = A.shape[0]\n",
    "k = len(np.unique(z_true))"
   ]
  },
  {
   "cell_type": "code",
   "execution_count": 9,
   "metadata": {},
   "outputs": [],
   "source": [
    "# rename communities from 0 to k-1\n",
    "for i, z in enumerate(np.unique(z_true)):\n",
    "    z_true[z_true == z] = i"
   ]
  },
  {
   "cell_type": "code",
   "execution_count": 10,
   "metadata": {},
   "outputs": [
    {
     "name": "stdout",
     "output_type": "stream",
     "text": [
      "Number of nodes: 1005\n",
      "Number of communities: 42\n"
     ]
    }
   ],
   "source": [
    "print('Number of nodes:', n)\n",
    "print('Number of communities:', k)"
   ]
  },
  {
   "cell_type": "code",
   "execution_count": 30,
   "metadata": {},
   "outputs": [
    {
     "name": "stderr",
     "output_type": "stream",
     "text": [
      "  0%|          | 0/5000 [00:00<?, ?it/s]"
     ]
    },
    {
     "name": "stderr",
     "output_type": "stream",
     "text": [
      "100%|██████████| 5000/5000 [04:33<00:00, 18.27it/s]\n"
     ]
    }
   ],
   "source": [
    "n_iter = 100\n",
    "gamma = 1\n",
    "ap = 1\n",
    "bp = 1\n",
    "aq = 1\n",
    "bq = 1\n",
    "z_init = warm_initializer(z_true, alpha = 0., n=n, k=k)\n",
    "sampler = Neal_batched_Gibbs_sampler(A, z_init, ap, bp, aq, bq, gamma = gamma)\n",
    "sampler.run(5000)\n",
    "# initialize the sampler\n"
   ]
  },
  {
   "cell_type": "code",
   "execution_count": 31,
   "metadata": {},
   "outputs": [
    {
     "data": {
      "text/plain": [
       "0.5850746268656717"
      ]
     },
     "execution_count": 31,
     "metadata": {},
     "output_type": "execute_result"
    }
   ],
   "source": [
    "z = sampler.get_z_list()[-1]\n",
    "greedy_loss(z, z_true)"
   ]
  },
  {
   "cell_type": "code",
   "execution_count": 32,
   "metadata": {},
   "outputs": [
    {
     "name": "stderr",
     "output_type": "stream",
     "text": [
      "100%|██████████| 1000/1000 [06:26<00:00,  2.59it/s]\n"
     ]
    },
    {
     "data": {
      "text/plain": [
       "0.5253731343283582"
      ]
     },
     "execution_count": 32,
     "metadata": {},
     "output_type": "execute_result"
    }
   ],
   "source": [
    "sampler = Neal_sequential_Gibbs_sampler(A, z_init, ap, bp, aq, bq, gamma = gamma)\n",
    "sampler.run(1000)\n",
    "\n",
    "z = sampler.get_z_list()[-1]\n",
    "greedy_loss(z, z_true)"
   ]
  },
  {
   "cell_type": "code",
   "execution_count": 56,
   "metadata": {},
   "outputs": [
    {
     "name": "stderr",
     "output_type": "stream",
     "text": [
      "c:\\Users\\feder\\AppData\\Local\\Programs\\Python\\Python311\\Lib\\site-packages\\sklearn\\manifold\\_spectral_embedding.py:301: UserWarning: Graph is not fully connected, spectral embedding may not work as expected.\n",
      "  warnings.warn(\n"
     ]
    },
    {
     "data": {
      "text/plain": [
       "0.1346631741977715"
      ]
     },
     "execution_count": 56,
     "metadata": {},
     "output_type": "execute_result"
    }
   ],
   "source": [
    "# use spectral clustering to compare\n",
    "sc = SpectralClustering(n_clusters=k, affinity=\"precomputed\", random_state=seed)\n",
    "z_sc = sc.fit_predict(A)\n",
    "greedy_loss(z_sc, z_true)\n",
    "compute_modularity(A, z_sc)"
   ]
  },
  {
   "cell_type": "code",
   "execution_count": 52,
   "metadata": {},
   "outputs": [
    {
     "name": "stderr",
     "output_type": "stream",
     "text": [
      "100%|██████████| 10000/10000 [08:27<00:00, 19.70it/s]\n"
     ]
    },
    {
     "data": {
      "text/plain": [
       "0.6009950248756218"
      ]
     },
     "execution_count": 52,
     "metadata": {},
     "output_type": "execute_result"
    }
   ],
   "source": [
    "z_init = z_sc\n",
    "sampler = Neal_batched_Gibbs_sampler(A, z_init, ap, bp, aq, bq, gamma = gamma)\n",
    "sampler.run(10000)\n",
    "\n",
    "z = sampler.get_z_list()[-1]\n",
    "greedy_loss(z, z_true)"
   ]
  },
  {
   "cell_type": "code",
   "execution_count": 58,
   "metadata": {},
   "outputs": [
    {
     "data": {
      "text/plain": [
       "0.29750466977664536"
      ]
     },
     "execution_count": 58,
     "metadata": {},
     "output_type": "execute_result"
    }
   ],
   "source": [
    "# do a majority vote of the last 25 samples for each node\n",
    "z_majority = np.zeros(n)\n",
    "z_list = sampler.get_z_list()\n",
    "z_array = np.array(z_list)\n",
    "for i in range(n):\n",
    "    z_majority[i] = np.argmax(np.bincount(z_array[-100:,i]))\n",
    "\n",
    "greedy_loss(z_majority, z_true)\n",
    "compute_modularity(A, z_majority)"
   ]
  },
  {
   "cell_type": "code",
   "execution_count": 124,
   "metadata": {},
   "outputs": [
    {
     "name": "stderr",
     "output_type": "stream",
     "text": [
      "100%|██████████| 1000/1000 [00:19<00:00, 52.14it/s]\n"
     ]
    },
    {
     "name": "stdout",
     "output_type": "stream",
     "text": [
      "(0.31802721088435376, (2, 6, 5, 0, 8, 3, 1, 9, 7, 4))\n",
      "(0.3163265306122449, (2, 6, 5, 0, 8, 3, 1, 9, 7, 4))\n"
     ]
    }
   ],
   "source": [
    "# use Gibbs on spectral clustering\n",
    "n_iter = 1000\n",
    "z_init = z_sc\n",
    "sampler = Neal_batched_Gibbs_sampler(A, z_init, ap, bp, aq, bq, gamma = 1)\n",
    "sampler.run(n_iter)\n",
    "z = sampler.get_z_list()[-1]\n",
    "print(loss(z, z_true, verbose = False))\n",
    "\n",
    "z_list = sampler.get_z_list()[:-5]\n",
    "# majority vote\n",
    "z_majority = np.zeros(n)\n",
    "for i in range(n):\n",
    "    z_majority[i] = np.argmax(np.bincount([z[i] for z in z_list]))\n",
    "\n",
    "z_majority = z_majority.astype(int)\n",
    "print(loss(z_majority, z_true, verbose = False))\n"
   ]
  },
  {
   "cell_type": "markdown",
   "metadata": {},
   "source": [
    "# Extra\n"
   ]
  },
  {
   "cell_type": "code",
   "execution_count": 125,
   "metadata": {},
   "outputs": [
    {
     "name": "stdout",
     "output_type": "stream",
     "text": [
      "Number of nodes: 1005\n",
      "Number of communities: 42\n"
     ]
    }
   ],
   "source": [
    "# import the data from the ./data folder, .txt files\n",
    "data = np.loadtxt('./data/email-Eu-core.txt', dtype=int)\n",
    "assignments = np.loadtxt('./data/email-Eu-core-department-labels.txt', dtype=int)\n",
    "\n",
    "# turn data into an adjacency matrix\n",
    "G = nx.Graph()\n",
    "G.add_edges_from(data)\n",
    "A = nx.adjacency_matrix(G).toarray()\n",
    "\n",
    "z_true = assignments[:,1]\n",
    "\n",
    "n = A.shape[0]\n",
    "k = len(np.unique(z_true))\n",
    "print('Number of nodes:', n)\n",
    "print('Number of communities:', k)"
   ]
  },
  {
   "cell_type": "code",
   "execution_count": 171,
   "metadata": {},
   "outputs": [
    {
     "name": "stderr",
     "output_type": "stream",
     "text": [
      "C:\\Users\\feder\\AppData\\Local\\Temp\\ipykernel_30892\\2570611643.py:21: RuntimeWarning: invalid value encountered in scalar divide\n",
      "  p[i,j] = sum / (community_sizes[i] * (community_sizes[i] - 1))\n"
     ]
    }
   ],
   "source": [
    "import itertools\n",
    "def generate_tuples(list1, list2):\n",
    "    return list(itertools.product(list1, list2))\n",
    "\n",
    "# compute within connectivity probabilities\n",
    "community_sizes = np.bincount(z_true)\n",
    "A_l = np.tril(A)\n",
    "p = np.zeros((k, k))\n",
    "for i in range(k):\n",
    "    for j in range(k):\n",
    "        t = generate_tuples(np.where(z_true==i)[0], np.where(z_true==j)[0])\n",
    "        if i != j:\n",
    "            sum = 0\n",
    "            for tup in t:\n",
    "                sum += A_l[tup]\n",
    "            p[i,j] = sum / (community_sizes[i] * community_sizes[j])\n",
    "        else:\n",
    "            sum = 0\n",
    "            for tup in t:\n",
    "                sum += A_l[tup]\n",
    "            p[i,j] = sum / (community_sizes[i] * (community_sizes[i] - 1))"
   ]
  },
  {
   "cell_type": "code",
   "execution_count": 173,
   "metadata": {},
   "outputs": [],
   "source": [
    "# substitute nans with 0\n",
    "p[np.isnan(p)] = 0"
   ]
  },
  {
   "cell_type": "code",
   "execution_count": 187,
   "metadata": {},
   "outputs": [
    {
     "data": {
      "text/plain": [
       "array([  1,   1,   2,   3,   3,   4,   4,   5,   6,   6,   8,   8,   9,\n",
       "         9,  10,  10,  12,  13,  13,  13,  14,  15,  18,  19,  22,  25,\n",
       "        25,  26,  27,  28,  29,  29,  32,  35,  39,  49,  51,  55,  61,\n",
       "        65,  92, 109], dtype=int64)"
      ]
     },
     "execution_count": 187,
     "metadata": {},
     "output_type": "execute_result"
    }
   ],
   "source": [
    "np.sort(np.bincount(z_true))"
   ]
  },
  {
   "cell_type": "code",
   "execution_count": 175,
   "metadata": {},
   "outputs": [
    {
     "name": "stdout",
     "output_type": "stream",
     "text": [
      "Mean diag(p): 0.2515399226206655\n",
      "Mean off_diag(p): 0.015278752218190554\n"
     ]
    },
    {
     "data": {
      "image/png": "[encoded data removed]",
      "text/plain": [
       "<Figure size 640x480 with 1 Axes>"
      ]
     },
     "metadata": {},
     "output_type": "display_data"
    },
    {
     "data": {
      "image/png": "[encoded data removed]",
      "text/plain": [
       "<Figure size 640x480 with 1 Axes>"
      ]
     },
     "metadata": {},
     "output_type": "display_data"
    }
   ],
   "source": [
    "# some stats of diag(p) and off_diag(p)\n",
    "print('Mean diag(p):', np.mean(np.diag(p)))\n",
    "\n",
    "print('Mean off_diag(p):', np.mean(p[~np.eye(p.shape[0],dtype=bool)]))\n",
    "\n",
    "# histograms\n",
    "plt.hist(np.diag(p), bins=50, alpha=0.5, label='diag(p)')\n",
    "plt.show()\n",
    "plt.hist(p[~np.eye(p.shape[0],dtype=bool)], bins=50, alpha=0.5, label='off_diag(p)')\n",
    "plt.show()"
   ]
  },
  {
   "cell_type": "code",
   "execution_count": 48,
   "metadata": {},
   "outputs": [
    {
     "name": "stdout",
     "output_type": "stream",
     "text": [
      "True loss: (0.4, (0, 1, 2, 3, 4, 5, 6, 7, 8, 9)), Time taken: 391.7437846660614 seconds\n",
      "Greedy loss: 0.4, Time taken: 0.015753746032714844 seconds\n"
     ]
    }
   ],
   "source": [
    "import time\n",
    "\n",
    "# pick a serious n\n",
    "n = 1000\n",
    "k = 10\n",
    "# generate a random assignment\n",
    "z_true = np.random.randint(0, k, n)\n",
    "# now use warm_intializer to know the loss\n",
    "z_init = warm_initializer(z_true, alpha = 0.4, n=n, k=k)\n",
    "# check the true loss\n",
    "start_time = time.time()\n",
    "true_loss = loss(z_true, z_init)\n",
    "end_time = time.time()\n",
    "print(f\"True loss: {true_loss}, Time taken: {end_time - start_time} seconds\")\n",
    "\n",
    "# check the greedy loss\n",
    "start_time = time.time()\n",
    "greedy_loss_value = greedy_loss(z_true, z_init)\n",
    "end_time = time.time()\n",
    "print(f\"Greedy loss: {greedy_loss_value}, Time taken: {end_time - start_time} seconds\")"
   ]
  },
  {
   "cell_type": "code",
   "execution_count": null,
   "metadata": {},
   "outputs": [],
   "source": []
  }
 ],
 "metadata": {
  "kernelspec": {
   "display_name": "Python 3",
   "language": "python",
   "name": "python3"
  },
  "language_info": {
   "codemirror_mode": {
    "name": "ipython",
    "version": 3
   },
   "file_extension": ".py",
   "mimetype": "text/x-python",
   "name": "python",
   "nbconvert_exporter": "python",
   "pygments_lexer": "ipython3",
   "version": "3.11.2"
  }
 },
 "nbformat": 4,
 "nbformat_minor": 2
}
