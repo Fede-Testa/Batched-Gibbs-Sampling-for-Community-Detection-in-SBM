{
 "cells": [
  {
   "cell_type": "markdown",
   "metadata": {},
   "source": [
    "# Notebook for simulation comparisons between batched and sequential Gibbs samplers"
   ]
  },
  {
   "cell_type": "code",
   "execution_count": 2,
   "metadata": {},
   "outputs": [],
   "source": [
    "import networkx as nx \n",
    "import matplotlib.pyplot as plt\n",
    "import numpy as np\n",
    "import random\n",
    "from neal_batched import Neal_batched_Gibbs_sampler\n",
    "from neal_sequential import Neal_sequential_Gibbs_sampler\n",
    "# spectral clustering\n",
    "from sklearn.cluster import SpectralClustering\n",
    "# import loss\n",
    "from metrics import loss, greedy_loss, compute_modularity\n",
    "from utils import warm_initializer"
   ]
  },
  {
   "cell_type": "code",
   "execution_count": 3,
   "metadata": {},
   "outputs": [],
   "source": [
    "seed = 1\n",
    "random.seed(seed)"
   ]
  },
  {
   "cell_type": "markdown",
   "metadata": {},
   "source": [
    "## Small Networks\n",
    "We simulate on the usual network and compare the speed of convergence while verifying that they converge to the same solution."
   ]
  },
  {
   "cell_type": "code",
   "execution_count": null,
   "metadata": {},
   "outputs": [],
   "source": []
  },
  {
   "cell_type": "markdown",
   "metadata": {},
   "source": [
    "## Large Network\n",
    "Same, simulated data as above, but on larger networks.\n",
    "We show that the speed goes largely in favour of the batched sampler despite the lack of a proper machine to exploit the at maximum extent the scalability of the batched solution."
   ]
  },
  {
   "cell_type": "code",
   "execution_count": null,
   "metadata": {},
   "outputs": [],
   "source": []
  },
  {
   "cell_type": "markdown",
   "metadata": {},
   "source": [
    "## Real Data\n",
    "We compare the performance on real data.\n",
    "In particular, we try on mail data from mailEU dataset.\n"
   ]
  },
  {
   "cell_type": "code",
   "execution_count": 4,
   "metadata": {},
   "outputs": [
    {
     "name": "stdout",
     "output_type": "stream",
     "text": [
      "Number of nodes: 1005\n",
      "Number of communities: 42\n"
     ]
    }
   ],
   "source": [
    "# import the data from the ./data folder, .txt files\n",
    "data = np.loadtxt('./data/email-Eu-core.txt', dtype=int)\n",
    "assignments = np.loadtxt('./data/email-Eu-core-department-labels.txt', dtype=int)\n",
    "\n",
    "# turn data into an adjacency matrix\n",
    "G = nx.Graph()\n",
    "G.add_edges_from(data)\n",
    "A = nx.adjacency_matrix(G).toarray()\n",
    "\n",
    "z_true = assignments[:,1]\n",
    "\n",
    "n = A.shape[0]\n",
    "k = len(np.unique(z_true))\n",
    "\n",
    "print('Number of nodes:', n)\n",
    "print('Number of communities:', k)"
   ]
  },
  {
   "cell_type": "markdown",
   "metadata": {},
   "source": [
    "We observe that communities are not balanced:"
   ]
  },
  {
   "cell_type": "code",
   "execution_count": 5,
   "metadata": {},
   "outputs": [
    {
     "data": {
      "text/plain": [
       "array([109,  92,  65,  61,  55,  51,  49,  39,  35,  32,  29,  29,  28,\n",
       "        27,  26,  25,  25,  22,  19,  18,  15,  14,  13,  13,  13,  12,\n",
       "        10,  10,   9,   9,   8,   8,   6,   6,   5,   4,   4,   3,   3,\n",
       "         2,   1,   1], dtype=int64)"
      ]
     },
     "execution_count": 5,
     "metadata": {},
     "output_type": "execute_result"
    }
   ],
   "source": [
    "np.sort(np.bincount(z_true))[::-1]"
   ]
  },
  {
   "cell_type": "markdown",
   "metadata": {},
   "source": [
    "So it could be possible that the best solution is not provided for 42 communities, but less.\n",
    "We try to fit the model with different communities and compare the loss."
   ]
  },
  {
   "cell_type": "code",
   "execution_count": 6,
   "metadata": {},
   "outputs": [],
   "source": [
    "k_values = np.arange(2, 43)\n",
    "losses = np.zeros(len(k_values))\n",
    "modularities = np.zeros(len(k_values))\n",
    "\n",
    "sc_losses = np.zeros(len(k_values))\n",
    "sc_modularities = np.zeros(len(k_values))"
   ]
  },
  {
   "cell_type": "markdown",
   "metadata": {},
   "source": [
    "For small values of k (less than 9) we can compute the proper loss, for higher values we need a greedy implementation that is more computationally feasible (and works as an upper bound of the loss).\n",
    "\n",
    "We recall that, in our implementation, k is inferred by the initialization. It's enough to provide an initialization using less communities."
   ]
  },
  {
   "cell_type": "code",
   "execution_count": 11,
   "metadata": {},
   "outputs": [],
   "source": [
    "n_iter = 500\n",
    "gamma = 1\n",
    "ap = 1\n",
    "bp = 1\n",
    "aq = 1\n",
    "bq = 1"
   ]
  },
  {
   "cell_type": "code",
   "execution_count": 8,
   "metadata": {},
   "outputs": [],
   "source": [
    "# to be changed with salso from R\n",
    "def majority_vote(z_list, last=50):\n",
    "    list_tmp = np.array(z_list)\n",
    "    z_majority = np.zeros(len(z_list[0]))\n",
    "    for i in range(len(z_list[0])):\n",
    "        z_majority[i] = np.argmax(np.bincount(list_tmp[-last:,i]))\n",
    "    return z_majority"
   ]
  },
  {
   "cell_type": "code",
   "execution_count": 22,
   "metadata": {},
   "outputs": [],
   "source": [
    "import rpy2.robjects as robjects\n",
    "from rpy2.robjects import numpy2ri\n",
    "from rpy2.robjects.packages import importr"
   ]
  },
  {
   "cell_type": "code",
   "execution_count": 24,
   "metadata": {},
   "outputs": [],
   "source": [
    "def salso_estimate(clustering_matrix):\n",
    "    # clustering matrix: list of clusterings, or array with (n_clusterings, n_nodes)\n",
    "\n",
    "    # Activate the automatic conversion of numpy objects to R objects\n",
    "    numpy2ri.activate()\n",
    "\n",
    "    # Import the salso package\n",
    "    salso = importr('salso')\n",
    "\n",
    "    # Convert the numpy matrix to an R matrix\n",
    "    r_matrix = numpy2ri.py2rpy(np.array(clustering_matrix))\n",
    "\n",
    "    # Define the R function\n",
    "    r_code = \"\"\"\n",
    "    myfun <- function(mat) {\n",
    "    library(salso)\n",
    "    results <- salso(mat, maxZealousAttempts=10000)\n",
    "    return(as.vector(results))\n",
    "    }\n",
    "    \"\"\"\n",
    "\n",
    "    # Load the R function into the R environment\n",
    "    robjects.r(r_code)\n",
    "\n",
    "    # Get the R function\n",
    "    r_myfun = robjects.globalenv['myfun']\n",
    "\n",
    "    # Call the R function with the R matrix\n",
    "    result = r_myfun(r_matrix)\n",
    "\n",
    "    # Convert the result back to a numpy array\n",
    "    return numpy2ri.rpy2py(result)\n"
   ]
  },
  {
   "cell_type": "code",
   "execution_count": 25,
   "metadata": {},
   "outputs": [
    {
     "name": "stdout",
     "output_type": "stream",
     "text": [
      "Number of clusters: 2\n"
     ]
    },
    {
     "name": "stderr",
     "output_type": "stream",
     "text": [
      "c:\\Users\\feder\\AppData\\Local\\Programs\\Python\\Python311\\Lib\\site-packages\\sklearn\\manifold\\_spectral_embedding.py:301: UserWarning: Graph is not fully connected, spectral embedding may not work as expected.\n",
      "  warnings.warn(\n"
     ]
    },
    {
     "name": "stdout",
     "output_type": "stream",
     "text": [
      "Initialization Loss: 0.808955223880597\n"
     ]
    },
    {
     "name": "stderr",
     "output_type": "stream",
     "text": [
      " 20%|██        | 2/10 [00:00<00:00, 19.99it/s]g:\\Il mio Drive\\Unito\\Tesi\\Codice\\Tidy\\Batched-Gibbs-Sampling-for-Community-Detection-in-SBM\\neal_batched.py:154: RuntimeWarning: overflow encountered in exp\n",
      "  self.pi = pi_pri_mat * np.exp(2 * t * (self.A - lambd_mat).T @ self.Z)\n",
      "g:\\Il mio Drive\\Unito\\Tesi\\Codice\\Tidy\\Batched-Gibbs-Sampling-for-Community-Detection-in-SBM\\neal_batched.py:155: RuntimeWarning: invalid value encountered in divide\n",
      "  self.pi = self.pi / np.sum(self.pi, axis=1).reshape(-1, 1)\n",
      "g:\\Il mio Drive\\Unito\\Tesi\\Codice\\Tidy\\Batched-Gibbs-Sampling-for-Community-Detection-in-SBM\\neal_batched.py:159: RuntimeWarning: divide by zero encountered in log\n",
      "  self.z = np.argmax(np.log(self.pi) + rnd.gumbel(size=self.pi.shape), axis=1)\n",
      " 80%|████████  | 8/10 [00:00<00:00, 19.93it/s]g:\\Il mio Drive\\Unito\\Tesi\\Codice\\Tidy\\Batched-Gibbs-Sampling-for-Community-Detection-in-SBM\\neal_batched.py:154: RuntimeWarning: overflow encountered in multiply\n",
      "  self.pi = pi_pri_mat * np.exp(2 * t * (self.A - lambd_mat).T @ self.Z)\n",
      "100%|██████████| 10/10 [00:00<00:00, 19.52it/s]\n",
      "R[write to console]: In addition: \n",
      "R[write to console]: Warning message:\n",
      "\n",
      "R[write to console]: In salso(mat, maxZealousAttempts = 10000) :\n",
      "R[write to console]: \n",
      " \n",
      "R[write to console]:  The number of clusters equals the default maximum possible number of clusters.\n",
      "\n",
      "c:\\Users\\feder\\AppData\\Local\\Programs\\Python\\Python311\\Lib\\site-packages\\sklearn\\manifold\\_spectral_embedding.py:301: UserWarning: Graph is not fully connected, spectral embedding may not work as expected.\n",
      "  warnings.warn(\n"
     ]
    },
    {
     "name": "stdout",
     "output_type": "stream",
     "text": [
      "Batched Loss: 0.83681592039801\n",
      "Number of clusters: 3\n",
      "Initialization Loss: 0.8019900497512438\n"
     ]
    },
    {
     "name": "stderr",
     "output_type": "stream",
     "text": [
      "100%|██████████| 10/10 [00:00<00:00, 20.53it/s]\n",
      "R[write to console]: In addition: \n",
      "R[write to console]: Warning message:\n",
      "\n",
      "R[write to console]: In salso(mat, maxZealousAttempts = 10000) :\n",
      "R[write to console]: \n",
      " \n",
      "R[write to console]:  The number of clusters equals the default maximum possible number of clusters.\n",
      "\n",
      "c:\\Users\\feder\\AppData\\Local\\Programs\\Python\\Python311\\Lib\\site-packages\\sklearn\\manifold\\_spectral_embedding.py:301: UserWarning: Graph is not fully connected, spectral embedding may not work as expected.\n",
      "  warnings.warn(\n"
     ]
    },
    {
     "name": "stdout",
     "output_type": "stream",
     "text": [
      "Batched Loss: 0.8388059701492537\n",
      "Number of clusters: 4\n",
      "Initialization Loss: 0.8029850746268656\n"
     ]
    },
    {
     "name": "stderr",
     "output_type": "stream",
     "text": [
      "100%|██████████| 10/10 [00:00<00:00, 20.03it/s]\n",
      "R[write to console]: In addition: \n",
      "R[write to console]: Warning message:\n",
      "\n",
      "R[write to console]: In salso(mat, maxZealousAttempts = 10000) :\n",
      "R[write to console]: \n",
      " \n",
      "R[write to console]:  The number of clusters equals the default maximum possible number of clusters.\n",
      "\n",
      "c:\\Users\\feder\\AppData\\Local\\Programs\\Python\\Python311\\Lib\\site-packages\\sklearn\\manifold\\_spectral_embedding.py:301: UserWarning: Graph is not fully connected, spectral embedding may not work as expected.\n",
      "  warnings.warn(\n"
     ]
    },
    {
     "name": "stdout",
     "output_type": "stream",
     "text": [
      "Batched Loss: 0.844776119402985\n",
      "Number of clusters: 5\n",
      "Initialization Loss: 0.7502487562189055\n"
     ]
    },
    {
     "name": "stderr",
     "output_type": "stream",
     "text": [
      "100%|██████████| 10/10 [00:00<00:00, 17.92it/s]\n"
     ]
    },
    {
     "name": "stdout",
     "output_type": "stream",
     "text": [
      "Batched Loss: 0.7940298507462686\n",
      "Number of clusters: 6\n"
     ]
    },
    {
     "name": "stderr",
     "output_type": "stream",
     "text": [
      "c:\\Users\\feder\\AppData\\Local\\Programs\\Python\\Python311\\Lib\\site-packages\\sklearn\\manifold\\_spectral_embedding.py:301: UserWarning: Graph is not fully connected, spectral embedding may not work as expected.\n",
      "  warnings.warn(\n"
     ]
    },
    {
     "name": "stdout",
     "output_type": "stream",
     "text": [
      "Initialization Loss: 0.7194029850746269\n"
     ]
    },
    {
     "name": "stderr",
     "output_type": "stream",
     "text": [
      "100%|██████████| 10/10 [00:00<00:00, 19.95it/s]\n"
     ]
    },
    {
     "name": "stdout",
     "output_type": "stream",
     "text": [
      "Batched Loss: 0.7701492537313432\n",
      "Number of clusters: 7\n"
     ]
    },
    {
     "name": "stderr",
     "output_type": "stream",
     "text": [
      "c:\\Users\\feder\\AppData\\Local\\Programs\\Python\\Python311\\Lib\\site-packages\\sklearn\\manifold\\_spectral_embedding.py:301: UserWarning: Graph is not fully connected, spectral embedding may not work as expected.\n",
      "  warnings.warn(\n"
     ]
    },
    {
     "name": "stdout",
     "output_type": "stream",
     "text": [
      "Initialization Loss: 0.690547263681592\n"
     ]
    },
    {
     "name": "stderr",
     "output_type": "stream",
     "text": [
      "100%|██████████| 10/10 [00:00<00:00, 19.27it/s]\n"
     ]
    },
    {
     "name": "stdout",
     "output_type": "stream",
     "text": [
      "Batched Loss: 0.7393034825870647\n",
      "Number of clusters: 8\n"
     ]
    },
    {
     "name": "stderr",
     "output_type": "stream",
     "text": [
      "c:\\Users\\feder\\AppData\\Local\\Programs\\Python\\Python311\\Lib\\site-packages\\sklearn\\manifold\\_spectral_embedding.py:301: UserWarning: Graph is not fully connected, spectral embedding may not work as expected.\n",
      "  warnings.warn(\n"
     ]
    },
    {
     "name": "stdout",
     "output_type": "stream",
     "text": [
      "Initialization Loss: 0.6915422885572139\n"
     ]
    },
    {
     "name": "stderr",
     "output_type": "stream",
     "text": [
      "100%|██████████| 10/10 [00:00<00:00, 18.68it/s]\n"
     ]
    },
    {
     "name": "stdout",
     "output_type": "stream",
     "text": [
      "Batched Loss: 0.7253731343283583\n",
      "Number of clusters: 9\n"
     ]
    },
    {
     "name": "stderr",
     "output_type": "stream",
     "text": [
      "c:\\Users\\feder\\AppData\\Local\\Programs\\Python\\Python311\\Lib\\site-packages\\sklearn\\manifold\\_spectral_embedding.py:301: UserWarning: Graph is not fully connected, spectral embedding may not work as expected.\n",
      "  warnings.warn(\n"
     ]
    },
    {
     "name": "stdout",
     "output_type": "stream",
     "text": [
      "Initialization Loss: 0.6288557213930348\n"
     ]
    },
    {
     "name": "stderr",
     "output_type": "stream",
     "text": [
      "100%|██████████| 10/10 [00:00<00:00, 20.54it/s]\n",
      "R[write to console]: In addition: \n",
      "R[write to console]: Warning message:\n",
      "\n",
      "R[write to console]: In salso(mat, maxZealousAttempts = 10000) :\n",
      "R[write to console]: \n",
      " \n",
      "R[write to console]:  The number of clusters equals the default maximum possible number of clusters.\n",
      "\n",
      "c:\\Users\\feder\\AppData\\Local\\Programs\\Python\\Python311\\Lib\\site-packages\\sklearn\\manifold\\_spectral_embedding.py:301: UserWarning: Graph is not fully connected, spectral embedding may not work as expected.\n",
      "  warnings.warn(\n"
     ]
    },
    {
     "name": "stdout",
     "output_type": "stream",
     "text": [
      "Batched Loss: 0.7124378109452736\n",
      "Number of clusters: 10\n",
      "Initialization Loss: 0.6149253731343284\n"
     ]
    },
    {
     "name": "stderr",
     "output_type": "stream",
     "text": [
      "100%|██████████| 10/10 [00:00<00:00, 20.69it/s]\n"
     ]
    },
    {
     "name": "stdout",
     "output_type": "stream",
     "text": [
      "Batched Loss: 0.699502487562189\n",
      "Number of clusters: 11\n"
     ]
    },
    {
     "name": "stderr",
     "output_type": "stream",
     "text": [
      "c:\\Users\\feder\\AppData\\Local\\Programs\\Python\\Python311\\Lib\\site-packages\\sklearn\\manifold\\_spectral_embedding.py:301: UserWarning: Graph is not fully connected, spectral embedding may not work as expected.\n",
      "  warnings.warn(\n"
     ]
    },
    {
     "name": "stdout",
     "output_type": "stream",
     "text": [
      "Initialization Loss: 0.5552238805970149\n"
     ]
    },
    {
     "name": "stderr",
     "output_type": "stream",
     "text": [
      "100%|██████████| 10/10 [00:00<00:00, 21.61it/s]\n"
     ]
    },
    {
     "name": "stdout",
     "output_type": "stream",
     "text": [
      "Batched Loss: 0.6527363184079602\n",
      "Number of clusters: 12\n"
     ]
    },
    {
     "name": "stderr",
     "output_type": "stream",
     "text": [
      "c:\\Users\\feder\\AppData\\Local\\Programs\\Python\\Python311\\Lib\\site-packages\\sklearn\\manifold\\_spectral_embedding.py:301: UserWarning: Graph is not fully connected, spectral embedding may not work as expected.\n",
      "  warnings.warn(\n"
     ]
    },
    {
     "name": "stdout",
     "output_type": "stream",
     "text": [
      "Initialization Loss: 0.6378109452736318\n"
     ]
    },
    {
     "name": "stderr",
     "output_type": "stream",
     "text": [
      "100%|██████████| 10/10 [00:00<00:00, 16.56it/s]\n"
     ]
    },
    {
     "name": "stdout",
     "output_type": "stream",
     "text": [
      "Batched Loss: 0.7124378109452736\n",
      "Number of clusters: 13\n"
     ]
    },
    {
     "name": "stderr",
     "output_type": "stream",
     "text": [
      "c:\\Users\\feder\\AppData\\Local\\Programs\\Python\\Python311\\Lib\\site-packages\\sklearn\\manifold\\_spectral_embedding.py:301: UserWarning: Graph is not fully connected, spectral embedding may not work as expected.\n",
      "  warnings.warn(\n"
     ]
    },
    {
     "name": "stdout",
     "output_type": "stream",
     "text": [
      "Initialization Loss: 0.6149253731343284\n"
     ]
    },
    {
     "name": "stderr",
     "output_type": "stream",
     "text": [
      "100%|██████████| 10/10 [00:00<00:00, 19.10it/s]\n"
     ]
    },
    {
     "name": "stdout",
     "output_type": "stream",
     "text": [
      "Batched Loss: 0.6925373134328359\n",
      "Number of clusters: 14\n"
     ]
    },
    {
     "name": "stderr",
     "output_type": "stream",
     "text": [
      "c:\\Users\\feder\\AppData\\Local\\Programs\\Python\\Python311\\Lib\\site-packages\\sklearn\\manifold\\_spectral_embedding.py:301: UserWarning: Graph is not fully connected, spectral embedding may not work as expected.\n",
      "  warnings.warn(\n"
     ]
    },
    {
     "name": "stdout",
     "output_type": "stream",
     "text": [
      "Initialization Loss: 0.6368159203980099\n"
     ]
    },
    {
     "name": "stderr",
     "output_type": "stream",
     "text": [
      "100%|██████████| 10/10 [00:00<00:00, 20.03it/s]\n"
     ]
    },
    {
     "name": "stdout",
     "output_type": "stream",
     "text": [
      "Batched Loss: 0.7134328358208956\n",
      "Number of clusters: 15\n"
     ]
    },
    {
     "name": "stderr",
     "output_type": "stream",
     "text": [
      "c:\\Users\\feder\\AppData\\Local\\Programs\\Python\\Python311\\Lib\\site-packages\\sklearn\\manifold\\_spectral_embedding.py:301: UserWarning: Graph is not fully connected, spectral embedding may not work as expected.\n",
      "  warnings.warn(\n"
     ]
    },
    {
     "name": "stdout",
     "output_type": "stream",
     "text": [
      "Initialization Loss: 0.6736318407960199\n"
     ]
    },
    {
     "name": "stderr",
     "output_type": "stream",
     "text": [
      "100%|██████████| 10/10 [00:00<00:00, 20.66it/s]\n"
     ]
    },
    {
     "name": "stdout",
     "output_type": "stream",
     "text": [
      "Batched Loss: 0.6975124378109453\n",
      "Number of clusters: 16\n"
     ]
    },
    {
     "name": "stderr",
     "output_type": "stream",
     "text": [
      "c:\\Users\\feder\\AppData\\Local\\Programs\\Python\\Python311\\Lib\\site-packages\\sklearn\\manifold\\_spectral_embedding.py:301: UserWarning: Graph is not fully connected, spectral embedding may not work as expected.\n",
      "  warnings.warn(\n"
     ]
    },
    {
     "name": "stdout",
     "output_type": "stream",
     "text": [
      "Initialization Loss: 0.6606965174129353\n"
     ]
    },
    {
     "name": "stderr",
     "output_type": "stream",
     "text": [
      "100%|██████████| 10/10 [00:00<00:00, 19.55it/s]\n"
     ]
    },
    {
     "name": "stdout",
     "output_type": "stream",
     "text": [
      "Batched Loss: 0.6985074626865672\n",
      "Number of clusters: 17\n"
     ]
    },
    {
     "name": "stderr",
     "output_type": "stream",
     "text": [
      "c:\\Users\\feder\\AppData\\Local\\Programs\\Python\\Python311\\Lib\\site-packages\\sklearn\\manifold\\_spectral_embedding.py:301: UserWarning: Graph is not fully connected, spectral embedding may not work as expected.\n",
      "  warnings.warn(\n"
     ]
    },
    {
     "name": "stdout",
     "output_type": "stream",
     "text": [
      "Initialization Loss: 0.6746268656716418\n"
     ]
    },
    {
     "name": "stderr",
     "output_type": "stream",
     "text": [
      "100%|██████████| 10/10 [00:00<00:00, 18.80it/s]\n"
     ]
    },
    {
     "name": "stdout",
     "output_type": "stream",
     "text": [
      "Batched Loss: 0.7253731343283583\n",
      "Number of clusters: 18\n"
     ]
    },
    {
     "name": "stderr",
     "output_type": "stream",
     "text": [
      "c:\\Users\\feder\\AppData\\Local\\Programs\\Python\\Python311\\Lib\\site-packages\\sklearn\\manifold\\_spectral_embedding.py:301: UserWarning: Graph is not fully connected, spectral embedding may not work as expected.\n",
      "  warnings.warn(\n"
     ]
    },
    {
     "name": "stdout",
     "output_type": "stream",
     "text": [
      "Initialization Loss: 0.5900497512437811\n"
     ]
    },
    {
     "name": "stderr",
     "output_type": "stream",
     "text": [
      "100%|██████████| 10/10 [00:00<00:00, 20.80it/s]\n"
     ]
    },
    {
     "name": "stdout",
     "output_type": "stream",
     "text": [
      "Batched Loss: 0.6766169154228856\n",
      "Number of clusters: 19\n"
     ]
    },
    {
     "name": "stderr",
     "output_type": "stream",
     "text": [
      "c:\\Users\\feder\\AppData\\Local\\Programs\\Python\\Python311\\Lib\\site-packages\\sklearn\\manifold\\_spectral_embedding.py:301: UserWarning: Graph is not fully connected, spectral embedding may not work as expected.\n",
      "  warnings.warn(\n"
     ]
    },
    {
     "name": "stdout",
     "output_type": "stream",
     "text": [
      "Initialization Loss: 0.6746268656716418\n"
     ]
    },
    {
     "name": "stderr",
     "output_type": "stream",
     "text": [
      "100%|██████████| 10/10 [00:00<00:00, 21.37it/s]\n"
     ]
    },
    {
     "name": "stdout",
     "output_type": "stream",
     "text": [
      "Batched Loss: 0.7054726368159204\n",
      "Number of clusters: 20\n"
     ]
    },
    {
     "name": "stderr",
     "output_type": "stream",
     "text": [
      "c:\\Users\\feder\\AppData\\Local\\Programs\\Python\\Python311\\Lib\\site-packages\\sklearn\\manifold\\_spectral_embedding.py:301: UserWarning: Graph is not fully connected, spectral embedding may not work as expected.\n",
      "  warnings.warn(\n"
     ]
    },
    {
     "name": "stdout",
     "output_type": "stream",
     "text": [
      "Initialization Loss: 0.6298507462686567\n"
     ]
    },
    {
     "name": "stderr",
     "output_type": "stream",
     "text": [
      "100%|██████████| 10/10 [00:00<00:00, 20.93it/s]\n"
     ]
    },
    {
     "name": "stdout",
     "output_type": "stream",
     "text": [
      "Batched Loss: 0.6686567164179105\n",
      "Number of clusters: 21\n"
     ]
    },
    {
     "name": "stderr",
     "output_type": "stream",
     "text": [
      "c:\\Users\\feder\\AppData\\Local\\Programs\\Python\\Python311\\Lib\\site-packages\\sklearn\\manifold\\_spectral_embedding.py:301: UserWarning: Graph is not fully connected, spectral embedding may not work as expected.\n",
      "  warnings.warn(\n"
     ]
    },
    {
     "name": "stdout",
     "output_type": "stream",
     "text": [
      "Initialization Loss: 0.5462686567164179\n"
     ]
    },
    {
     "name": "stderr",
     "output_type": "stream",
     "text": [
      "100%|██████████| 10/10 [00:00<00:00, 17.36it/s]\n"
     ]
    },
    {
     "name": "stdout",
     "output_type": "stream",
     "text": [
      "Batched Loss: 0.6895522388059702\n",
      "Number of clusters: 22\n"
     ]
    },
    {
     "name": "stderr",
     "output_type": "stream",
     "text": [
      "c:\\Users\\feder\\AppData\\Local\\Programs\\Python\\Python311\\Lib\\site-packages\\sklearn\\manifold\\_spectral_embedding.py:301: UserWarning: Graph is not fully connected, spectral embedding may not work as expected.\n",
      "  warnings.warn(\n"
     ]
    },
    {
     "name": "stdout",
     "output_type": "stream",
     "text": [
      "Initialization Loss: 0.5144278606965174\n"
     ]
    },
    {
     "name": "stderr",
     "output_type": "stream",
     "text": [
      "100%|██████████| 10/10 [00:00<00:00, 20.10it/s]\n",
      "R[write to console]: In addition: \n",
      "R[write to console]: Warning message:\n",
      "\n",
      "R[write to console]: In salso(mat, maxZealousAttempts = 10000) :\n",
      "R[write to console]: \n",
      " \n",
      "R[write to console]:  The number of clusters equals the default maximum possible number of clusters.\n",
      "\n",
      "c:\\Users\\feder\\AppData\\Local\\Programs\\Python\\Python311\\Lib\\site-packages\\sklearn\\manifold\\_spectral_embedding.py:301: UserWarning: Graph is not fully connected, spectral embedding may not work as expected.\n",
      "  warnings.warn(\n"
     ]
    },
    {
     "name": "stdout",
     "output_type": "stream",
     "text": [
      "Batched Loss: 0.6547263681592039\n",
      "Number of clusters: 23\n",
      "Initialization Loss: 0.564179104477612\n"
     ]
    },
    {
     "name": "stderr",
     "output_type": "stream",
     "text": [
      "100%|██████████| 10/10 [00:00<00:00, 20.68it/s]\n"
     ]
    },
    {
     "name": "stdout",
     "output_type": "stream",
     "text": [
      "Batched Loss: 0.6437810945273632\n",
      "Number of clusters: 24\n"
     ]
    },
    {
     "name": "stderr",
     "output_type": "stream",
     "text": [
      "c:\\Users\\feder\\AppData\\Local\\Programs\\Python\\Python311\\Lib\\site-packages\\sklearn\\manifold\\_spectral_embedding.py:301: UserWarning: Graph is not fully connected, spectral embedding may not work as expected.\n",
      "  warnings.warn(\n"
     ]
    },
    {
     "name": "stdout",
     "output_type": "stream",
     "text": [
      "Initialization Loss: 0.5661691542288557\n"
     ]
    },
    {
     "name": "stderr",
     "output_type": "stream",
     "text": [
      "100%|██████████| 10/10 [00:00<00:00, 20.74it/s]\n"
     ]
    },
    {
     "name": "stdout",
     "output_type": "stream",
     "text": [
      "Batched Loss: 0.6517412935323383\n",
      "Number of clusters: 25\n"
     ]
    },
    {
     "name": "stderr",
     "output_type": "stream",
     "text": [
      "c:\\Users\\feder\\AppData\\Local\\Programs\\Python\\Python311\\Lib\\site-packages\\sklearn\\manifold\\_spectral_embedding.py:301: UserWarning: Graph is not fully connected, spectral embedding may not work as expected.\n",
      "  warnings.warn(\n"
     ]
    },
    {
     "name": "stdout",
     "output_type": "stream",
     "text": [
      "Initialization Loss: 0.6009950248756218\n"
     ]
    },
    {
     "name": "stderr",
     "output_type": "stream",
     "text": [
      "100%|██████████| 10/10 [00:00<00:00, 21.12it/s]\n",
      "R[write to console]: In addition: \n",
      "R[write to console]: Warning message:\n",
      "\n",
      "R[write to console]: In salso(mat, maxZealousAttempts = 10000) :\n",
      "R[write to console]: \n",
      " \n",
      "R[write to console]:  The number of clusters equals the default maximum possible number of clusters.\n",
      "\n",
      "c:\\Users\\feder\\AppData\\Local\\Programs\\Python\\Python311\\Lib\\site-packages\\sklearn\\manifold\\_spectral_embedding.py:301: UserWarning: Graph is not fully connected, spectral embedding may not work as expected.\n",
      "  warnings.warn(\n"
     ]
    },
    {
     "name": "stdout",
     "output_type": "stream",
     "text": [
      "Batched Loss: 0.6368159203980099\n",
      "Number of clusters: 26\n",
      "Initialization Loss: 0.5402985074626866\n"
     ]
    },
    {
     "name": "stderr",
     "output_type": "stream",
     "text": [
      "100%|██████████| 10/10 [00:00<00:00, 19.96it/s]\n"
     ]
    },
    {
     "name": "stdout",
     "output_type": "stream",
     "text": [
      "Batched Loss: 0.6\n",
      "Number of clusters: 27\n"
     ]
    },
    {
     "name": "stderr",
     "output_type": "stream",
     "text": [
      "c:\\Users\\feder\\AppData\\Local\\Programs\\Python\\Python311\\Lib\\site-packages\\sklearn\\manifold\\_spectral_embedding.py:301: UserWarning: Graph is not fully connected, spectral embedding may not work as expected.\n",
      "  warnings.warn(\n"
     ]
    },
    {
     "name": "stdout",
     "output_type": "stream",
     "text": [
      "Initialization Loss: 0.5691542288557214\n"
     ]
    },
    {
     "name": "stderr",
     "output_type": "stream",
     "text": [
      "100%|██████████| 10/10 [00:00<00:00, 21.23it/s]\n"
     ]
    },
    {
     "name": "stdout",
     "output_type": "stream",
     "text": [
      "Batched Loss: 0.663681592039801\n",
      "Number of clusters: 28\n"
     ]
    },
    {
     "name": "stderr",
     "output_type": "stream",
     "text": [
      "c:\\Users\\feder\\AppData\\Local\\Programs\\Python\\Python311\\Lib\\site-packages\\sklearn\\manifold\\_spectral_embedding.py:301: UserWarning: Graph is not fully connected, spectral embedding may not work as expected.\n",
      "  warnings.warn(\n"
     ]
    },
    {
     "name": "stdout",
     "output_type": "stream",
     "text": [
      "Initialization Loss: 0.6129353233830845\n"
     ]
    },
    {
     "name": "stderr",
     "output_type": "stream",
     "text": [
      "100%|██████████| 10/10 [00:00<00:00, 21.03it/s]\n",
      "R[write to console]: In addition: \n",
      "R[write to console]: Warning message:\n",
      "\n",
      "R[write to console]: In salso(mat, maxZealousAttempts = 10000) :\n",
      "R[write to console]: \n",
      " \n",
      "R[write to console]:  The number of clusters equals the default maximum possible number of clusters.\n",
      "\n",
      "c:\\Users\\feder\\AppData\\Local\\Programs\\Python\\Python311\\Lib\\site-packages\\sklearn\\manifold\\_spectral_embedding.py:301: UserWarning: Graph is not fully connected, spectral embedding may not work as expected.\n",
      "  warnings.warn(\n"
     ]
    },
    {
     "name": "stdout",
     "output_type": "stream",
     "text": [
      "Batched Loss: 0.6557213930348259\n",
      "Number of clusters: 29\n",
      "Initialization Loss: 0.6666666666666666\n"
     ]
    },
    {
     "name": "stderr",
     "output_type": "stream",
     "text": [
      "100%|██████████| 10/10 [00:00<00:00, 20.74it/s]\n",
      "R[write to console]: In addition: \n",
      "R[write to console]: Warning message:\n",
      "\n",
      "R[write to console]: In salso(mat, maxZealousAttempts = 10000) :\n",
      "R[write to console]: \n",
      " \n",
      "R[write to console]:  The number of clusters equals the default maximum possible number of clusters.\n",
      "\n",
      "c:\\Users\\feder\\AppData\\Local\\Programs\\Python\\Python311\\Lib\\site-packages\\sklearn\\manifold\\_spectral_embedding.py:301: UserWarning: Graph is not fully connected, spectral embedding may not work as expected.\n",
      "  warnings.warn(\n"
     ]
    },
    {
     "name": "stdout",
     "output_type": "stream",
     "text": [
      "Batched Loss: 0.6358208955223881\n",
      "Number of clusters: 30\n",
      "Initialization Loss: 0.6199004975124378\n"
     ]
    },
    {
     "name": "stderr",
     "output_type": "stream",
     "text": [
      "100%|██████████| 10/10 [00:00<00:00, 19.77it/s]\n",
      "R[write to console]: In addition: \n",
      "R[write to console]: Warning message:\n",
      "\n",
      "R[write to console]: In salso(mat, maxZealousAttempts = 10000) :\n",
      "R[write to console]: \n",
      " \n",
      "R[write to console]:  The number of clusters equals the default maximum possible number of clusters.\n",
      "\n"
     ]
    },
    {
     "name": "stdout",
     "output_type": "stream",
     "text": [
      "Batched Loss: 0.6935323383084577\n",
      "Number of clusters: 31\n"
     ]
    },
    {
     "name": "stderr",
     "output_type": "stream",
     "text": [
      "c:\\Users\\feder\\AppData\\Local\\Programs\\Python\\Python311\\Lib\\site-packages\\sklearn\\manifold\\_spectral_embedding.py:301: UserWarning: Graph is not fully connected, spectral embedding may not work as expected.\n",
      "  warnings.warn(\n"
     ]
    },
    {
     "name": "stdout",
     "output_type": "stream",
     "text": [
      "Initialization Loss: 0.5980099502487563\n"
     ]
    },
    {
     "name": "stderr",
     "output_type": "stream",
     "text": [
      "100%|██████████| 10/10 [00:00<00:00, 20.56it/s]\n",
      "R[write to console]: In addition: \n",
      "R[write to console]: Warning message:\n",
      "\n",
      "R[write to console]: In salso(mat, maxZealousAttempts = 10000) :\n",
      "R[write to console]: \n",
      " \n",
      "R[write to console]:  The number of clusters equals the default maximum possible number of clusters.\n",
      "\n",
      "c:\\Users\\feder\\AppData\\Local\\Programs\\Python\\Python311\\Lib\\site-packages\\sklearn\\manifold\\_spectral_embedding.py:301: UserWarning: Graph is not fully connected, spectral embedding may not work as expected.\n",
      "  warnings.warn(\n"
     ]
    },
    {
     "name": "stdout",
     "output_type": "stream",
     "text": [
      "Batched Loss: 0.6447761194029851\n",
      "Number of clusters: 32\n",
      "Initialization Loss: 0.6159203980099502\n"
     ]
    },
    {
     "name": "stderr",
     "output_type": "stream",
     "text": [
      "100%|██████████| 10/10 [00:00<00:00, 15.54it/s]\n",
      "R[write to console]: In addition: \n",
      "R[write to console]: Warning message:\n",
      "\n",
      "R[write to console]: In salso(mat, maxZealousAttempts = 10000) :\n",
      "R[write to console]: \n",
      " \n",
      "R[write to console]:  The number of clusters equals the default maximum possible number of clusters.\n",
      "\n"
     ]
    },
    {
     "name": "stdout",
     "output_type": "stream",
     "text": [
      "Batched Loss: 0.6805970149253732\n",
      "Number of clusters: 33\n"
     ]
    },
    {
     "name": "stderr",
     "output_type": "stream",
     "text": [
      "c:\\Users\\feder\\AppData\\Local\\Programs\\Python\\Python311\\Lib\\site-packages\\sklearn\\manifold\\_spectral_embedding.py:301: UserWarning: Graph is not fully connected, spectral embedding may not work as expected.\n",
      "  warnings.warn(\n"
     ]
    },
    {
     "name": "stdout",
     "output_type": "stream",
     "text": [
      "Initialization Loss: 0.6029850746268657\n"
     ]
    },
    {
     "name": "stderr",
     "output_type": "stream",
     "text": [
      "100%|██████████| 10/10 [00:00<00:00, 18.52it/s]\n",
      "R[write to console]: In addition: \n",
      "R[write to console]: Warning message:\n",
      "\n",
      "R[write to console]: In salso(mat, maxZealousAttempts = 10000) :\n",
      "R[write to console]: \n",
      " \n",
      "R[write to console]:  The number of clusters equals the default maximum possible number of clusters.\n",
      "\n"
     ]
    },
    {
     "name": "stdout",
     "output_type": "stream",
     "text": [
      "Batched Loss: 0.6109452736318408\n",
      "Number of clusters: 34\n"
     ]
    },
    {
     "name": "stderr",
     "output_type": "stream",
     "text": [
      "c:\\Users\\feder\\AppData\\Local\\Programs\\Python\\Python311\\Lib\\site-packages\\sklearn\\manifold\\_spectral_embedding.py:301: UserWarning: Graph is not fully connected, spectral embedding may not work as expected.\n",
      "  warnings.warn(\n"
     ]
    },
    {
     "name": "stdout",
     "output_type": "stream",
     "text": [
      "Initialization Loss: 0.6527363184079602\n"
     ]
    },
    {
     "name": "stderr",
     "output_type": "stream",
     "text": [
      "100%|██████████| 10/10 [00:00<00:00, 19.42it/s]\n",
      "R[write to console]: In addition: \n",
      "R[write to console]: Warning message:\n",
      "\n",
      "R[write to console]: In salso(mat, maxZealousAttempts = 10000) :\n",
      "R[write to console]: \n",
      " \n",
      "R[write to console]:  The number of clusters equals the default maximum possible number of clusters.\n",
      "\n"
     ]
    },
    {
     "name": "stdout",
     "output_type": "stream",
     "text": [
      "Batched Loss: 0.6109452736318408\n",
      "Number of clusters: 35\n"
     ]
    },
    {
     "name": "stderr",
     "output_type": "stream",
     "text": [
      "c:\\Users\\feder\\AppData\\Local\\Programs\\Python\\Python311\\Lib\\site-packages\\sklearn\\manifold\\_spectral_embedding.py:301: UserWarning: Graph is not fully connected, spectral embedding may not work as expected.\n",
      "  warnings.warn(\n"
     ]
    },
    {
     "name": "stdout",
     "output_type": "stream",
     "text": [
      "Initialization Loss: 0.6139303482587065\n"
     ]
    },
    {
     "name": "stderr",
     "output_type": "stream",
     "text": [
      "100%|██████████| 10/10 [00:00<00:00, 19.40it/s]\n",
      "R[write to console]: In addition: \n",
      "R[write to console]: Warning message:\n",
      "\n",
      "R[write to console]: In salso(mat, maxZealousAttempts = 10000) :\n",
      "R[write to console]: \n",
      " \n",
      "R[write to console]:  The number of clusters equals the default maximum possible number of clusters.\n",
      "\n"
     ]
    },
    {
     "name": "stdout",
     "output_type": "stream",
     "text": [
      "Batched Loss: 0.6348258706467662\n",
      "Number of clusters: 36\n"
     ]
    },
    {
     "name": "stderr",
     "output_type": "stream",
     "text": [
      "c:\\Users\\feder\\AppData\\Local\\Programs\\Python\\Python311\\Lib\\site-packages\\sklearn\\manifold\\_spectral_embedding.py:301: UserWarning: Graph is not fully connected, spectral embedding may not work as expected.\n",
      "  warnings.warn(\n"
     ]
    },
    {
     "name": "stdout",
     "output_type": "stream",
     "text": [
      "Initialization Loss: 0.545273631840796\n"
     ]
    },
    {
     "name": "stderr",
     "output_type": "stream",
     "text": [
      "100%|██████████| 10/10 [00:00<00:00, 18.65it/s]\n",
      "R[write to console]: In addition: \n",
      "R[write to console]: Warning message:\n",
      "\n",
      "R[write to console]: In salso(mat, maxZealousAttempts = 10000) :\n",
      "R[write to console]: \n",
      " \n",
      "R[write to console]:  The number of clusters equals the default maximum possible number of clusters.\n",
      "\n"
     ]
    },
    {
     "name": "stdout",
     "output_type": "stream",
     "text": [
      "Batched Loss: 0.5930348258706468\n",
      "Number of clusters: 37\n"
     ]
    },
    {
     "name": "stderr",
     "output_type": "stream",
     "text": [
      "c:\\Users\\feder\\AppData\\Local\\Programs\\Python\\Python311\\Lib\\site-packages\\sklearn\\manifold\\_spectral_embedding.py:301: UserWarning: Graph is not fully connected, spectral embedding may not work as expected.\n",
      "  warnings.warn(\n"
     ]
    },
    {
     "name": "stdout",
     "output_type": "stream",
     "text": [
      "Initialization Loss: 0.6537313432835821\n"
     ]
    },
    {
     "name": "stderr",
     "output_type": "stream",
     "text": [
      "100%|██████████| 10/10 [00:00<00:00, 18.84it/s]\n",
      "R[write to console]: In addition: \n",
      "R[write to console]: Warning message:\n",
      "\n",
      "R[write to console]: In salso(mat, maxZealousAttempts = 10000) :\n",
      "R[write to console]: \n",
      " \n",
      "R[write to console]:  The number of clusters equals the default maximum possible number of clusters.\n",
      "\n"
     ]
    },
    {
     "name": "stdout",
     "output_type": "stream",
     "text": [
      "Batched Loss: 0.6447761194029851\n",
      "Number of clusters: 38\n"
     ]
    },
    {
     "name": "stderr",
     "output_type": "stream",
     "text": [
      "c:\\Users\\feder\\AppData\\Local\\Programs\\Python\\Python311\\Lib\\site-packages\\sklearn\\manifold\\_spectral_embedding.py:301: UserWarning: Graph is not fully connected, spectral embedding may not work as expected.\n",
      "  warnings.warn(\n"
     ]
    },
    {
     "name": "stdout",
     "output_type": "stream",
     "text": [
      "Initialization Loss: 0.6855721393034826\n"
     ]
    },
    {
     "name": "stderr",
     "output_type": "stream",
     "text": [
      "100%|██████████| 10/10 [00:00<00:00, 16.64it/s]\n",
      "R[write to console]: In addition: \n",
      "R[write to console]: Warning message:\n",
      "\n",
      "R[write to console]: In salso(mat, maxZealousAttempts = 10000) :\n",
      "R[write to console]: \n",
      " \n",
      "R[write to console]:  The number of clusters equals the default maximum possible number of clusters.\n",
      "\n"
     ]
    },
    {
     "name": "stdout",
     "output_type": "stream",
     "text": [
      "Batched Loss: 0.7661691542288557\n",
      "Number of clusters: 39\n"
     ]
    },
    {
     "name": "stderr",
     "output_type": "stream",
     "text": [
      "c:\\Users\\feder\\AppData\\Local\\Programs\\Python\\Python311\\Lib\\site-packages\\sklearn\\manifold\\_spectral_embedding.py:301: UserWarning: Graph is not fully connected, spectral embedding may not work as expected.\n",
      "  warnings.warn(\n"
     ]
    },
    {
     "name": "stdout",
     "output_type": "stream",
     "text": [
      "Initialization Loss: 0.6965174129353234\n"
     ]
    },
    {
     "name": "stderr",
     "output_type": "stream",
     "text": [
      "100%|██████████| 10/10 [00:00<00:00, 18.97it/s]\n",
      "R[write to console]: In addition: \n",
      "R[write to console]: Warning message:\n",
      "\n",
      "R[write to console]: In salso(mat, maxZealousAttempts = 10000) :\n",
      "R[write to console]: \n",
      " \n",
      "R[write to console]:  The number of clusters equals the default maximum possible number of clusters.\n",
      "\n"
     ]
    },
    {
     "name": "stdout",
     "output_type": "stream",
     "text": [
      "Batched Loss: 0.6388059701492538\n",
      "Number of clusters: 40\n"
     ]
    },
    {
     "name": "stderr",
     "output_type": "stream",
     "text": [
      "c:\\Users\\feder\\AppData\\Local\\Programs\\Python\\Python311\\Lib\\site-packages\\sklearn\\manifold\\_spectral_embedding.py:301: UserWarning: Graph is not fully connected, spectral embedding may not work as expected.\n",
      "  warnings.warn(\n"
     ]
    },
    {
     "name": "stdout",
     "output_type": "stream",
     "text": [
      "Initialization Loss: 0.6527363184079602\n"
     ]
    },
    {
     "name": "stderr",
     "output_type": "stream",
     "text": [
      "100%|██████████| 10/10 [00:00<00:00, 18.21it/s]\n",
      "R[write to console]: In addition: \n",
      "R[write to console]: Warning message:\n",
      "\n",
      "R[write to console]: In salso(mat, maxZealousAttempts = 10000) :\n",
      "R[write to console]: \n",
      " \n",
      "R[write to console]:  The number of clusters equals the default maximum possible number of clusters.\n",
      "\n"
     ]
    },
    {
     "name": "stdout",
     "output_type": "stream",
     "text": [
      "Batched Loss: 0.6228855721393035\n",
      "Number of clusters: 41\n"
     ]
    },
    {
     "name": "stderr",
     "output_type": "stream",
     "text": [
      "c:\\Users\\feder\\AppData\\Local\\Programs\\Python\\Python311\\Lib\\site-packages\\sklearn\\manifold\\_spectral_embedding.py:301: UserWarning: Graph is not fully connected, spectral embedding may not work as expected.\n",
      "  warnings.warn(\n"
     ]
    },
    {
     "name": "stdout",
     "output_type": "stream",
     "text": [
      "Initialization Loss: 0.6039800995024875\n"
     ]
    },
    {
     "name": "stderr",
     "output_type": "stream",
     "text": [
      "100%|██████████| 10/10 [00:00<00:00, 18.55it/s]\n",
      "R[write to console]: In addition: \n",
      "R[write to console]: Warning message:\n",
      "\n",
      "R[write to console]: In salso(mat, maxZealousAttempts = 10000) :\n",
      "R[write to console]: \n",
      " \n",
      "R[write to console]:  The number of clusters equals the default maximum possible number of clusters.\n",
      "\n"
     ]
    },
    {
     "name": "stdout",
     "output_type": "stream",
     "text": [
      "Batched Loss: 0.5840796019900497\n",
      "Number of clusters: 42\n"
     ]
    },
    {
     "name": "stderr",
     "output_type": "stream",
     "text": [
      "c:\\Users\\feder\\AppData\\Local\\Programs\\Python\\Python311\\Lib\\site-packages\\sklearn\\manifold\\_spectral_embedding.py:301: UserWarning: Graph is not fully connected, spectral embedding may not work as expected.\n",
      "  warnings.warn(\n"
     ]
    },
    {
     "name": "stdout",
     "output_type": "stream",
     "text": [
      "Initialization Loss: 0.7064676616915423\n"
     ]
    },
    {
     "name": "stderr",
     "output_type": "stream",
     "text": [
      "100%|██████████| 10/10 [00:00<00:00, 18.79it/s]\n",
      "R[write to console]: In addition: \n",
      "R[write to console]: Warning message:\n",
      "\n",
      "R[write to console]: In salso(mat, maxZealousAttempts = 10000) :\n",
      "R[write to console]: \n",
      " \n",
      "R[write to console]:  The number of clusters equals the default maximum possible number of clusters.\n",
      "\n"
     ]
    },
    {
     "name": "stdout",
     "output_type": "stream",
     "text": [
      "Batched Loss: 0.6417910447761194\n"
     ]
    }
   ],
   "source": [
    "for k_tmp in k_values:\n",
    "    np.random.seed(seed)\n",
    "\n",
    "    print('Number of clusters:', k_tmp)\n",
    "\n",
    "    sc = SpectralClustering(n_clusters=k_tmp, affinity=\"precomputed\")\n",
    "    z_init = sc.fit_predict(A)\n",
    "\n",
    "    if k < 8:\n",
    "        sc_losses[k_tmp-2] = loss(z_init, z_true)\n",
    "        print('Initialization Loss:', sc_losses[k_tmp-2])\n",
    "    else:\n",
    "        sc_losses[k_tmp-2] = greedy_loss(z_init, z_true)\n",
    "        print('Initialization Loss:', sc_losses[k_tmp-2])\n",
    "    sc_modularities[k_tmp-2] = compute_modularity(A, z_init)\n",
    "\n",
    "    sampler = Neal_batched_Gibbs_sampler(A, z_init, ap, bp, aq, bq, gamma = gamma)\n",
    "    sampler.run(n_iter)\n",
    "\n",
    "    # # compute the loss using a majority vote\n",
    "    # z_majority = majority_vote(sampler.get_z_list())\n",
    "\n",
    "# we use rpy2 to act find a posterior estimate using the salso algorithm in R\n",
    "    z_salso = salso_estimate(sampler.get_z_list())\n",
    "\n",
    "    if k < 8:\n",
    "        losses[k_tmp-2] = loss(z_salso, z_true)\n",
    "        print('Batched Loss:', losses[k_tmp-2])\n",
    "    else:\n",
    "        losses[k_tmp-2] = greedy_loss(z_salso, z_true)\n",
    "        print('Batched Loss:', losses[k_tmp-2])\n",
    "    modularities[k_tmp-2] = compute_modularity(A, z_salso)"
   ]
  },
  {
   "cell_type": "code",
   "execution_count": 13,
   "metadata": {},
   "outputs": [
    {
     "data": {
      "image/png": "[encoded data removed]",
      "text/plain": [
       "<Figure size 640x480 with 1 Axes>"
      ]
     },
     "metadata": {},
     "output_type": "display_data"
    }
   ],
   "source": [
    "# check modularities and losses for different k\n",
    "plt.figure()\n",
    "plt.plot(k_values, losses, label='Batched Loss')\n",
    "plt.plot(k_values, sc_losses, label='Spectral Loss')\n",
    "plt.xlabel('Number of clusters')\n",
    "plt.ylabel('Loss')\n",
    "plt.legend()\n",
    "plt.show()\n"
   ]
  },
  {
   "cell_type": "markdown",
   "metadata": {},
   "source": [
    "let's use salso"
   ]
  },
  {
   "cell_type": "code",
   "execution_count": 14,
   "metadata": {},
   "outputs": [],
   "source": [
    "# store on a .csv the results in sampler.get_z_list() in a array version\n",
    "\n",
    "import pandas as pd\n",
    "df = pd.DataFrame(sampler.get_z_list())\n",
    "df.to_csv('./data/results.csv', index=False)"
   ]
  },
  {
   "cell_type": "code",
   "execution_count": 21,
   "metadata": {},
   "outputs": [
    {
     "name": "stderr",
     "output_type": "stream",
     "text": [
      "R[write to console]: In addition: \n",
      "R[write to console]: Warning message:\n",
      "\n",
      "R[write to console]: In salso(mat, maxZealousAttempts = 10000) :\n",
      "R[write to console]: \n",
      " \n",
      "R[write to console]:  The number of clusters equals the default maximum possible number of clusters.\n",
      "\n"
     ]
    },
    {
     "name": "stdout",
     "output_type": "stream",
     "text": [
      "[1 1 1 ... 4 4 4]\n"
     ]
    },
    {
     "data": {
      "text/plain": [
       "0.6427860696517413"
      ]
     },
     "execution_count": 21,
     "metadata": {},
     "output_type": "execute_result"
    }
   ],
   "source": [
    "\n",
    "\n",
    "# Activate the automatic conversion of numpy objects to R objects\n",
    "numpy2ri.activate()\n",
    "\n",
    "# Import the salso package\n",
    "salso = importr('salso')\n",
    "\n",
    "# Convert the numpy matrix to an R matrix\n",
    "r_matrix = numpy2ri.py2rpy(np.array(sampler.get_z_list()))\n",
    "\n",
    "# Define the R function\n",
    "r_code = \"\"\"\n",
    "myfun <- function(mat) {\n",
    "  library(salso)\n",
    "  results <- salso(mat, maxZealousAttempts=10000)\n",
    "  return(as.vector(results))\n",
    "}\n",
    "\"\"\"\n",
    "\n",
    "# Load the R function into the R environment\n",
    "robjects.r(r_code)\n",
    "\n",
    "# Get the R function\n",
    "r_myfun = robjects.globalenv['myfun']\n",
    "\n",
    "# Call the R function with the R matrix\n",
    "result = r_myfun(r_matrix)\n",
    "\n",
    "# Convert the result back to a numpy array\n",
    "result_np = numpy2ri.rpy2py(result)\n",
    "\n",
    "print(result_np)\n",
    "\n",
    "greedy_loss(result_np, z_true)\n"
   ]
  },
  {
   "cell_type": "code",
   "execution_count": null,
   "metadata": {},
   "outputs": [],
   "source": [
    "def salso(example_list):\n",
    "    numpy2ri.activate()\n",
    "\n",
    "    # Import the salso package\n",
    "    salso = importr('salso')\n",
    "\n",
    "    # Convert the numpy matrix to an R matrix\n",
    "    r_matrix = numpy2ri.py2rpy(np.array(example_list))\n",
    "\n",
    "    # Define the R function\n",
    "    r_code = \"\"\"\n",
    "    myfun <- function(mat) {\n",
    "      library(salso)\n",
    "      results <- salso(mat, maxZealousAttempts=10000)\n",
    "      return(as.vector(results))\n",
    "    }\n",
    "    \"\"\"\n",
    "\n",
    "    # Load the R function into the R environment\n",
    "    robjects.r(r_code)\n",
    "\n",
    "    # Get the R function\n",
    "    r_myfun = robjects.globalenv['myfun']\n",
    "\n",
    "    # Call the R function with the R matrix\n",
    "    result = r_myfun(r_matrix)\n",
    "\n",
    "    # Convert the result back to a numpy array\n",
    "    result_np = numpy2ri.rpy2py(result)\n",
    "    \n",
    "    return result_np"
   ]
  },
  {
   "cell_type": "markdown",
   "metadata": {},
   "source": [
    "# Mixed Dump"
   ]
  },
  {
   "cell_type": "code",
   "execution_count": null,
   "metadata": {},
   "outputs": [],
   "source": [
    "from tqdm import tqdm\n",
    "import numpy as np\n",
    "from utils import one_hot_encode\n",
    "import numpy.random as rnd\n",
    "import rpy2.robjects as robjects\n",
    "from rpy2.robjects import numpy2ri\n",
    "from rpy2.robjects.packages import importr\n",
    "\n",
    "\n",
    "class Neal_batched_Gibbs_sampler():\n",
    "    \"\"\"\n",
    "    A class representing a batched Gibbs sampler for community detection in SBM.\n",
    "\n",
    "    Parameters:\n",
    "    - A: numpy array, adjacency matrix of the graph\n",
    "    - z_0: numpy array, initial community assignment\n",
    "    - alpha_p_pri: float, prior hyperparameter for alpha_p\n",
    "    - beta_p_pri: float, prior hyperparameter for beta_p\n",
    "    - alpha_q_pri: float, prior hyperparameter for alpha_q\n",
    "    - beta_q_pri: float, prior hyperparameter for beta_q\n",
    "    - pi_pri: numpy array, prior probability distribution over communities\n",
    "\n",
    "    Attributes:\n",
    "    - A: numpy array, adjacency matrix of the graph\n",
    "    - z: numpy array, current community assignment\n",
    "    - alpha_p_pri: float, prior hyperparameter for alpha_p\n",
    "    - beta_p_pri: float, prior hyperparameter for beta_p\n",
    "    - alpha_q_pri: float, prior hyperparameter for alpha_q\n",
    "    - beta_q_pri: float, prior hyperparameter for beta_q\n",
    "    - pi_pri: numpy array, prior probability distribution over communities\n",
    "    - z_list: list, list of community assignments at each step\n",
    "    - p_list: list, list of sampled p values at each step\n",
    "    - q_list: list, list of sampled q values at each step\n",
    "    - alpha_p: float, posterior hyperparameter for alpha_p\n",
    "    - beta_p: float, posterior hyperparameter for beta_p\n",
    "    - alpha_q: float, posterior hyperparameter for alpha_q\n",
    "    - beta_q: float, posterior hyperparameter for beta_q\n",
    "    - pi: numpy array, posterior probability distribution over communities\n",
    "    - p: float, sampled p value\n",
    "    - q: float, sampled q value\n",
    "    - n: int, number of nodes in the graph\n",
    "    - k: int, number of communities\n",
    "    - Z: numpy array, one-hot encoded community assignment matrix\n",
    "\n",
    "    Methods:\n",
    "    - __init__(self, A, z_0, alpha_p_pri, beta_p_pri, alpha_q_pri, beta_q_pri, pi_pri): Initializes the batched Gibbs sampler with the given parameters\n",
    "    - __beta_updates(self): Updates the posterior hyperparameters alpha_p, beta_p, alpha_q, beta_q, and samples p and q\n",
    "    - __z_updates(self, append=True): Updates the community assignment z based on the current values of p, q, and pi\n",
    "    - step(self, append_z=True): Performs one step of the Gibbs sampling algorithm\n",
    "    - run(self, num_iterations, burn_in=0): Runs the Gibbs sampler for the specified number of iterations\n",
    "    - get_z_list(self): Returns the list of community assignments at each step\n",
    "    - get_p_list(self): Returns the list of sampled p values at each step\n",
    "    - get_q_list(self): Returns the list of sampled q values at each step\n",
    "    \"\"\"\n",
    "\n",
    "    def __init__(self, A, z_0, alpha_p_pri=1, beta_p_pri=1, alpha_q_pri=1, beta_q_pri=1, gamma=None):\n",
    "        \"\"\"\n",
    "        Initializes the batched Gibbs sampler with the given parameters.\n",
    "\n",
    "        Parameters:\n",
    "        - A: numpy array, adjacency matrix of the graph\n",
    "        - z_0: numpy array, initial community assignment\n",
    "        - alpha_p_pri: float, prior hyperparameter for alpha_p\n",
    "        - beta_p_pri: float, prior hyperparameter for beta_p\n",
    "        - alpha_q_pri: float, prior hyperparameter for alpha_q\n",
    "        - beta_q_pri: float, prior hyperparameter for beta_q\n",
    "        - pi_pri: numpy array, prior probability distribution over communities\n",
    "        \"\"\"\n",
    "        # data\n",
    "        self.A = A\n",
    "        self.z = z_0.copy()\n",
    "\n",
    "        \n",
    "        self.n = len(self.z)\n",
    "        self.k = len(np.unique(self.z))\n",
    "\n",
    "\n",
    "        # priors\n",
    "        self.alpha_p_pri = alpha_p_pri\n",
    "        self.beta_p_pri = beta_p_pri\n",
    "        self.alpha_q_pri = alpha_q_pri\n",
    "        self.beta_q_pri = beta_q_pri\n",
    "\n",
    "        if gamma is None:\n",
    "            self.gamma = np.ones((self.n, self.k))\n",
    "        elif isinstance(gamma, (int, float)):\n",
    "            self.gamma = np.ones((self.n, self.k)) * gamma\n",
    "        else: \n",
    "            gamma = np.array(gamma)\n",
    "            if gamma.shape == (self.k,):\n",
    "                self.gamma = np.zeros((self.n, self.k))\n",
    "                for i in range(self.n):\n",
    "                    self.gamma[i,:] = gamma\n",
    "            else:\n",
    "                assert gamma.shape == (self.n, self.k), \"gamma must have shape (n,k), (k,), be None or be a scalar\"\n",
    "\n",
    "        #lists for analyses\n",
    "        self.z_list = [self.z]\n",
    "        self.p_list = []\n",
    "        self.q_list = []\n",
    "\n",
    "\n",
    "        #posteriors\n",
    "        self.alpha_p = None\n",
    "        self.beta_p = None\n",
    "        self.alpha_q = None\n",
    "        self.beta_q = None\n",
    "        self.pi = None\n",
    "\n",
    "        #sampled\n",
    "        self.p = None\n",
    "        self.q = None\n",
    "\n",
    "        self.Z = one_hot_encode(self.z, self.k)\n",
    "\n",
    "    def __beta_updates(self):\n",
    "        \"\"\"\n",
    "        Updates the posterior hyperparameters alpha_p, beta_p, alpha_q, beta_q, and samples p and q.\n",
    "        \"\"\"\n",
    "        A_lower = np.tril(self.A)\n",
    "        cA_lower = np.tril(np.ones((self.n,self.n))) - np.eye(self.n) - A_lower\n",
    "\n",
    "        U = self.Z.T @ A_lower @ self.Z\n",
    "        cU = self.Z.T @ cA_lower @ self.Z\n",
    "\n",
    "        self.alpha_p = self.alpha_p_pri + np.sum(np.diag(U))\n",
    "        self.beta_p = self.beta_p_pri + np.sum(np.diag(cU))\n",
    "\n",
    "        # set the diagonal elements to 0\n",
    "        np.fill_diagonal(U, 0)\n",
    "        np.fill_diagonal(cU, 0)\n",
    "\n",
    "        self.alpha_q = self.alpha_q_pri +  np.sum(U)\n",
    "        self.beta_q = self.beta_q_pri + np.sum(cU)\n",
    "\n",
    "        self.p = np.random.beta(self.alpha_p, self.beta_p)\n",
    "        self.q = np.random.beta(self.alpha_q,self.beta_q)\n",
    "        self.p_list.append(self.p)\n",
    "        self.q_list.append(self.q)\n",
    "        return\n",
    "\n",
    "    def __z_updates(self, append=True):\n",
    "        \"\"\"\n",
    "        Updates the community assignment z based on the current values of p, q, and pi.\n",
    "\n",
    "        Parameters:\n",
    "        - append: bool, whether to append the updated community assignment to the z_list\n",
    "        \"\"\"\n",
    "        # compute useful quantities\n",
    "        t = np.log((self.p * (1-self.q)) / ((1-self.p) * self.q))/2\n",
    "        lambd = np.log((1-self.q)/(1-self.p)) / (2*t)\n",
    "        lambd_mat = lambd * ( np.ones((self.n, self.n)) - np.eye(self.n) )\n",
    "\n",
    "        pi_pri_mat = (np.ones((self.n, self.n)) - np.eye(self.n)) @ self.Z + self.gamma\n",
    "\n",
    "        # batch update on pi\n",
    "        self.pi = pi_pri_mat * np.exp(2 * t * (self.A - lambd_mat).T @ self.Z)\n",
    "        self.pi = self.pi / np.sum(self.pi, axis=1).reshape(-1, 1)\n",
    "\n",
    "        # sample z from pi\n",
    "        # using gumbel trick to exploit parallelization\n",
    "        self.z = np.argmax(np.log(self.pi) + rnd.gumbel(size=self.pi.shape), axis=1)\n",
    "        #self.z = np.array([np.random.choice(self.k, p=self.pi[i,:]) for i in range(self.n)])\n",
    "        self.Z = one_hot_encode(self.z, self.k)\n",
    "\n",
    "        # # added part to handle \"collapse\" of communities\n",
    "        # if self.Z.shape[1] != self.k:\n",
    "        #     print(\"Community collapse\")\n",
    "        #     self.z[0] = 0\n",
    "        #     self.z[1] = 1\n",
    "        #     self.z[2] = 2\n",
    "        #     self.z[3] = 3\n",
    "        #     self.Z = one_hot_encode(self.z)\n",
    "\n",
    "        if append:\n",
    "            self.z_list.append(self.z.copy())\n",
    "\n",
    "    def step(self, append_z=True):\n",
    "        \"\"\"\n",
    "        Performs one step of the Gibbs sampling algorithm.\n",
    "\n",
    "        Parameters:\n",
    "        - append_z: bool, whether to append the updated community assignment to the z_list\n",
    "        \"\"\"\n",
    "        self.__beta_updates()\n",
    "        self.__z_updates(append=append_z)\n",
    "    \n",
    "    def run(self, num_iterations, burn_in=0):\n",
    "        \"\"\"\n",
    "        Runs the Gibbs sampler for the specified number of iterations.\n",
    "\n",
    "        Parameters:\n",
    "        - num_iterations: int, number of iterations to run the Gibbs sampler\n",
    "        - burn_in: int, number of burn-in iterations to discard from the beginning\n",
    "        \"\"\"\n",
    "        for t in tqdm(range(num_iterations)):\n",
    "            self.step(append_z=(t >= burn_in))\n",
    "\n",
    "    def get_z_list(self):\n",
    "        \"\"\"\n",
    "        Returns the list of community assignments at each step.\n",
    "\n",
    "        Returns:\n",
    "        - z_list: list, list of community assignments at each step\n",
    "        \"\"\"\n",
    "        return self.z_list\n",
    "    \n",
    "    def get_p_list(self):\n",
    "        \"\"\"\n",
    "        Returns the list of sampled p values at each step.\n",
    "\n",
    "        Returns:\n",
    "        - p_list: list, list of sampled p values at each step\n",
    "        \"\"\"\n",
    "        return self.p_list\n",
    "    \n",
    "    def get_q_list(self):\n",
    "        \"\"\"\n",
    "        Returns the list of sampled q values at each step.\n",
    "\n",
    "        Returns:\n",
    "        - q_list: list, list of sampled q values at each step\n",
    "        \"\"\"\n",
    "        return self.q_list\n",
    "    \n",
    "    def partition_point_estimate(self, num_iterations, num_chains=2, num_splits=4, lower_bound = 0.9, upper_bound = 1.1, quantity =\"p\"):\n",
    "        \"\"\"\n",
    "        Runs the chain, finds the convergence iterations, and passes one of the list of z samples,\n",
    "        from convergence to the end of the iterations, to a function called \"salso\".\n",
    "\n",
    "        Parameters:\n",
    "        - num_iterations: int, number of iterations to run the Gibbs sampler\n",
    "        - num_chains: int, number of chains to run\n",
    "        - num_splits: int, number of splits for R_hat computation\n",
    "        \"\"\"\n",
    "        z_samples = []\n",
    "        samples = []\n",
    "        \n",
    "        # Run the Gibbs sampler for the specified number of iterations and chains\n",
    "        for _ in range(num_chains):\n",
    "            self.run(num_iterations)\n",
    "            z_samples.append(self.get_z_list())\n",
    "            if quantity == \"p\":\n",
    "                samples.append(self.get_p_list())\n",
    "            elif quantity == \"q\":\n",
    "                samples.append(self.get_q_list())\n",
    "            else:\n",
    "                raise ValueError(\"Quantity must be either 'p' or 'q'\")\n",
    "\n",
    "        # Compute the R_hat values to find the convergence iteration\n",
    "        R_hat_list = progressive_R_hat(samples, splits=num_splits, n_chains=num_chains, n_iter=num_iterations)\n",
    "        convergence_iter = find_convergence(R_hat_list, lb=lower_bound, ub=upper_bound)  # Assuming convergence bounds between 1.0 and 1.1\n",
    "\n",
    "        if convergence_iter == -1:\n",
    "            raise ValueError(\"Convergence not achieved within the specified iterations\")\n",
    "\n",
    "        # Extract the z samples from the convergence iteration to the end\n",
    "        # take only samples after convergence\n",
    "        z_samples_post_convergence = [z_list[convergence_iter:] for z_list in z_samples]\n",
    "        # now, this it list of lists, we need to flatten it\n",
    "        z_samples_post_convergence = [item for sublist in z_samples_post_convergence for item in sublist]\n",
    "\n",
    "        # Pass the z samples to the \"salso\" function\n",
    "        result = self._salso(z_samples_post_convergence)\n",
    "        return result\n",
    "    \n",
    "    def _salso(self, example_list):\n",
    "        numpy2ri.activate()\n",
    "\n",
    "        # Import the salso package\n",
    "        salso = importr('salso')\n",
    "\n",
    "        # Convert the numpy matrix to an R matrix\n",
    "        r_matrix = numpy2ri.py2rpy(np.array(example_list))\n",
    "\n",
    "        # Define the R function\n",
    "        r_code = \"\"\"\n",
    "        myfun <- function(mat) {\n",
    "        library(salso)\n",
    "        results <- salso(mat, maxZealousAttempts=10000)\n",
    "        return(as.vector(results))\n",
    "        }\n",
    "        \"\"\"\n",
    "\n",
    "        # Load the R function into the R environment\n",
    "        robjects.r(r_code)\n",
    "\n",
    "        # Get the R function\n",
    "        r_myfun = robjects.globalenv['myfun']\n",
    "\n",
    "        # Call the R function with the R matrix\n",
    "        result = r_myfun(r_matrix)\n",
    "\n",
    "        # Convert the result back to a numpy array\n",
    "        result_np = numpy2ri.rpy2py(result)\n",
    "        \n",
    "        return result_np\n",
    "\n",
    "\n",
    "\n",
    "\n",
    "def split_chains(chains, splits = 2):\n",
    "    # chains is a list of arrays\n",
    "    n_tot = len(chains[0])\n",
    "    if n_tot % splits != 0:\n",
    "        raise ValueError(\"The number of samples is not divisible by the number of splits\")\n",
    "    # split each chain into splits parts\n",
    "    split_chains = []\n",
    "    for chain in chains:\n",
    "        split_chain = np.array_split(chain, splits)\n",
    "        split_chains.append(split_chain)\n",
    "    return np.vstack(split_chains).T # row index: iteration, col_index: chain\n",
    "\n",
    "def R_hat(split_chains):\n",
    "    n = split_chains.shape[0]\n",
    "    m = split_chains.shape[1]\n",
    "\n",
    "    # Verifica che ci siano abbastanza campioni per il calcolo\n",
    "    if n <= 1:\n",
    "        raise ValueError(f\"Insufficient number of iterations per split ({n}). Increase the number of iterations or reduce the number of splits.\")\n",
    "\n",
    "    # within chains variance\n",
    "    W = np.mean(np.sum((split_chains - np.mean(split_chains, axis=0))**2, axis=0)/(n-1))\n",
    "    # between chains variance\n",
    "    B = n * np.sum((np.mean(split_chains, axis=0) - np.mean(split_chains))**2) / (m-1)\n",
    "    # estimated variance\n",
    "    var_plus = (n-1)/n * W + 1/n * B\n",
    "\n",
    "    return np.sqrt(var_plus/W)\n",
    "\n",
    "\n",
    "def progressive_R_hat(estimand_array, splits=2, n_chains=4, n_iter=250, burn_in=0, ignore=0):\n",
    "    \"\"\"\n",
    "    Compute the progressive R_hat statistic over a series of iterations, checking\n",
    "    for convergence as more samples are added.\n",
    "\n",
    "    Args:\n",
    "        estimand_array (ndarray): 2D array of shape (iterations, chains) containing samples.\n",
    "        splits (int): Number of splits for each chain to compute R_hat. Defaults to 2.\n",
    "        n_chains (int): Number of chains in the estimand_array. Defaults to 4.\n",
    "        n_iter (int): Total number of iterations (rows) in the estimand_array.\n",
    "        burn_in (int): Number of initial iterations to discard. Defaults to 0.\n",
    "        ignore (int): Proportion of samples to ignore. Defaults to 0.\n",
    "\n",
    "    Returns:\n",
    "        R_hat_list (ndarray): Array of R_hat values computed for different segments.\n",
    "    \"\"\"\n",
    "\n",
    "    # Allocate space for the R_hat values (indices divided by `splits`)\n",
    "    R_hat_list = np.zeros((n_iter-burn_in)//splits)\n",
    "\n",
    "    if not isinstance(estimand_array, np.ndarray):\n",
    "        estimand_array = np.array(estimand_array).T\n",
    "\n",
    "    # Iterate through the rows, taking steps of `splits`\n",
    "    for r in range(1+splits, n_iter-burn_in, splits):\n",
    "        l = int(r*ignore)  # Compute the initial index to ignore a portion of the samples\n",
    "        # Adjust `l` to ensure (r+1-l) is a multiple of `splits`\n",
    "        while ((r+1-l) % splits) or (l!=0) != 0:\n",
    "            l -= 1\n",
    "\n",
    "        # Extract the first `r+1` rows, while possibly ignoring some samples\n",
    "        list_split = estimand_array[l:r+1, :]\n",
    "        # Convert the 2D array into a list of arrays (one for each chain)\n",
    "        list_split = [list_split[:, i] for i in range(n_chains)]\n",
    "        # Split the chains into `splits` segments\n",
    "        list_split = split_chains(list_split, splits)\n",
    "\n",
    "        # Calculate and store R_hat\n",
    "        R_hat_list[r//splits] = R_hat(list_split)\n",
    "\n",
    "    return R_hat_list\n",
    "\n",
    "\n",
    "def find_convergence(list, lb, ub):\n",
    "    candidates = []\n",
    "    for i in range(len(list)):\n",
    "        if list[i] > lb and list[i] < ub:\n",
    "            candidates.append(i)\n",
    "    for i in candidates:\n",
    "        # check if all the following values are within the bounds\n",
    "        if all([list[j] > lb and list[j] < ub for j in range(i+1, len(list))]):\n",
    "            return i\n",
    "    return -1\n",
    "\n",
    "# instance of the class\n",
    "batched_sampler = Neal_batched_Gibbs_sampler(adj_matrix, z_init_small, alpha_p, beta_p, alpha_q, beta_q, gamma)\n",
    "# run the function\n",
    "result = batched_sampler.partition_point_estimate(100, num_chains=2, num_splits=4, lower_bound = 0.9, upper_bound = 1.1, quantity =\"p\")\n",
    "\n",
    "# compute loss\n",
    "from metrics import loss\n",
    "loss(result, z_true_small)"
   ]
  },
  {
   "cell_type": "code",
   "execution_count": null,
   "metadata": {},
   "outputs": [],
   "source": []
  }
 ],
 "metadata": {
  "kernelspec": {
   "display_name": "Python 3",
   "language": "python",
   "name": "python3"
  },
  "language_info": {
   "codemirror_mode": {
    "name": "ipython",
    "version": 3
   },
   "file_extension": ".py",
   "mimetype": "text/x-python",
   "name": "python",
   "nbconvert_exporter": "python",
   "pygments_lexer": "ipython3",
   "version": "3.11.2"
  }
 },
 "nbformat": 4,
 "nbformat_minor": 2
}
